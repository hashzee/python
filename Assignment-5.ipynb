{
 "cells": [
  {
   "cell_type": "code",
   "execution_count": 13,
   "metadata": {},
   "outputs": [
    {
     "name": "stdout",
     "output_type": "stream",
     "text": [
      "Factorial of number 10 is 3628800\n"
     ]
    }
   ],
   "source": [
    "'''\n",
    "Assignment No. 5 - Question No. 1\n",
    "Write a Python function to calculate the factorial of a number (a non-negative\n",
    "integer). The function accepts the number as an argument.\n",
    "'''\n",
    "def factorial(num):\n",
    "    if num > 0:\n",
    "        factorial = 1\n",
    "        for i in range(1,num+1):\n",
    "            factorial = factorial * i\n",
    "        return factorial\n",
    "    else:\n",
    "        return 'Positive integer required'\n",
    "\n",
    "number = 10\n",
    "fact = factorial(number)\n",
    "print(\"Factorial of number \"+str(number)+\" is\",fact)"
   ]
  },
  {
   "cell_type": "code",
   "execution_count": 21,
   "metadata": {},
   "outputs": [
    {
     "name": "stdout",
     "output_type": "stream",
     "text": [
      "The quick Brown fOx jUmpEd over the LazY Dog has 8 upper case letter and 28 lower case letters\n"
     ]
    }
   ],
   "source": [
    "'''\n",
    "Assignment No. 5 - Question No. 2\n",
    "Write a Python function that accepts a string and calculate the number of upper\n",
    "case letters and lower case letters.\n",
    "'''\n",
    "def countUpLowChar(string):\n",
    "    up = lo = 0\n",
    "    if str != '':\n",
    "        for char in string:\n",
    "            if char != ' ':\n",
    "                if char.islower():\n",
    "                    lo += 1 \n",
    "                elif char.isupper():\n",
    "                    up += 1 \n",
    "        print(string+' has '+str(up)+' upper case letter and '+str(lo)+' lower case letters')\n",
    "    else:\n",
    "        print('Invalid string supplied')\n",
    "               \n",
    "countUpLowChar(\"The quick Brown fOx jUmpEd over the LazY Dog\") "
   ]
  },
  {
   "cell_type": "code",
   "execution_count": 23,
   "metadata": {},
   "outputs": [
    {
     "name": "stdout",
     "output_type": "stream",
     "text": [
      "Listing all the Even Numbers given in the list\n",
      "6\n",
      "12\n",
      "34\n",
      "24\n",
      "2\n"
     ]
    }
   ],
   "source": [
    "'''\n",
    "Assignment No. 5 - Question No. 3\n",
    "Write a Python function to print the even numbers from a given list.\n",
    "'''\n",
    "def isEven(num):\n",
    "    if num % 2 == 0:\n",
    "        return 1\n",
    "    else:\n",
    "        return 0\n",
    "    \n",
    "def prnEven(theList):\n",
    "    print('Listing all the Even Numbers given in the list')\n",
    "    for no in theList:\n",
    "        if isEven(no):\n",
    "            print(no)\n",
    "prnEven([5,6,12,67,34,55,69,24,679,2])            "
   ]
  },
  {
   "cell_type": "code",
   "execution_count": 28,
   "metadata": {},
   "outputs": [
    {
     "name": "stdout",
     "output_type": "stream",
     "text": [
      "Mr. Owl ate my metal worm is a PALINDROME !\n"
     ]
    }
   ],
   "source": [
    "'''\n",
    "Assignment No. 5 - Question No. 4\n",
    "Write a Python function that checks whether a passed string is palindrome or not.\n",
    "Note: A palindrome is a word, phrase, or sequence that reads the same\n",
    "backward as forward, e.g., madam\n",
    "'''\n",
    "\n",
    "def reverseStr(string):\n",
    "    length = len(string)\n",
    "    rev = \"\"\n",
    "    for i in range(length):\n",
    "        rev = rev + string[length-(i+1)]\n",
    "    return rev\n",
    "    \n",
    "def isPalindrome(string):\n",
    "    lowerStr = string.lower().replace(' ','').replace(',','').replace('.','')\n",
    "    if lowerStr == reverseStr(lowerStr):\n",
    "        print(string+\" is a PALINDROME !\")\n",
    "    else:\n",
    "        print(string+\" is NOT a palindrome\")\n",
    "        \n",
    "isPalindrome(\"Mr. Owl ate my metal worm\")"
   ]
  },
  {
   "cell_type": "code",
   "execution_count": 67,
   "metadata": {},
   "outputs": [
    {
     "name": "stdout",
     "output_type": "stream",
     "text": [
      "104729 is a PRIME number\n"
     ]
    }
   ],
   "source": [
    "'''\n",
    "Assignment No. 5 - Question No. 5\n",
    "Write a Python function that takes a number as a parameter and check the\n",
    "number is prime or not.\n",
    "'''\n",
    "\n",
    "def isPrime(num):\n",
    "    if num > 999999:\n",
    "        print(\"I am just an innocent computer. Please give me a smaller number.\")\n",
    "    else:\n",
    "        primeFlag = 1\n",
    "        for i in range(2,num):\n",
    "\n",
    "            if num % i == 0 and num != i:\n",
    "                primeFlag = 0\n",
    "                break\n",
    "            else:\n",
    "                primeFlag = 1\n",
    "        if primeFlag == 1:\n",
    "            print(num,\"is a PRIME number\")\n",
    "        else:\n",
    "            print(num,\"is a Composite number\")\n",
    "        \n",
    "isPrime(104729)        "
   ]
  },
  {
   "cell_type": "code",
   "execution_count": 75,
   "metadata": {},
   "outputs": [
    {
     "name": "stdout",
     "output_type": "stream",
     "text": [
      "HappyBuy Store\n",
      "Items in your cart\n",
      "------------------\n",
      " ----- Dozen Egg............................... Rs:262/-\n",
      " ----- Milk 1.5 liter.......................... Rs:283/-\n",
      " ----- Chicken Boneless 1 KG................... Rs:151/-\n",
      " ----- Pine Nuts (photo only).................. Rs:105/-\n",
      " ----- Tomato 1 KG............................. Rs:424/-\n"
     ]
    }
   ],
   "source": [
    "'''\n",
    "Assignment No. 5 - Question No. 6\n",
    "Suppose a customer is shopping in a market and you need to print all the items\n",
    "which user bought from market.\n",
    "Write a function which accepts the multiple arguments of user shopping list and\n",
    "print all the items which user bought from market.\n",
    "'''\n",
    "import random\n",
    "def getLine(txt):\n",
    "    txtLength = len(txt)\n",
    "    lineLength = 40\n",
    "    remaining = lineLength - txtLength \n",
    "    line = ''\n",
    "    for i in range(remaining):\n",
    "        line += '.'\n",
    "    return line    \n",
    "    \n",
    "def cart(*items):\n",
    "    print(\"HappyBuy Store\")\n",
    "    print(\"Items in your cart\")\n",
    "    print(\"------------------\")\n",
    "    for item in items:\n",
    "        if item != '':\n",
    "            price = random.randint(100,500)\n",
    "            dottedLine = getLine(item)\n",
    "            print(\" ----- \"+item+dottedLine+\" Rs:\"+str(price)+\"/-\")\n",
    "cart(\"Dozen Egg\",\"Milk 1.5 liter\",\"Chicken Boneless 1 KG\",\"Pine Nuts (photo only)\",\"Tomato 1 KG\")"
   ]
  }
 ],
 "metadata": {
  "kernelspec": {
   "display_name": "Python 3",
   "language": "python",
   "name": "python3"
  },
  "language_info": {
   "codemirror_mode": {
    "name": "ipython",
    "version": 3
   },
   "file_extension": ".py",
   "mimetype": "text/x-python",
   "name": "python",
   "nbconvert_exporter": "python",
   "pygments_lexer": "ipython3",
   "version": "3.7.4"
  }
 },
 "nbformat": 4,
 "nbformat_minor": 2
}
