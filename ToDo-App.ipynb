{
 "cells": [
  {
   "cell_type": "code",
   "execution_count": 22,
   "metadata": {},
   "outputs": [
    {
     "name": "stdout",
     "output_type": "stream",
     "text": [
      "\n",
      "\u001b[1mList of Tasks\u001b[0m\n",
      "-------------\n",
      "Task No. 1 > 07/12/2019 00:12:00 --- Task No. 1\n",
      "Task No. 2 > 07/12/2019 00:12:00 --- Task No. 2\n",
      "Task No. 3 > \u001b[3;37;40m 07/12/2019 00:12:00\u001b[0;0m --- \u001b[3;37;40m Task No. 3 - Completed.\u001b[0;0m\n",
      "Task No. 4 > 07/12/2019 00:12:00 --- Task No. 4\n",
      "\n",
      "\n",
      "<A> Add Task  <C> Complete Task  <D> Delete Task  <M> Empty Task List  <X> Exit\n",
      "Select Option: X\n"
     ]
    }
   ],
   "source": [
    "# Assignment No 5\n",
    "# ToDo App\n",
    "\n",
    "# FUNCTIONS\n",
    "from datetime import date\n",
    "from IPython.display import clear_output\n",
    "BS = \"\\033[1m\"\n",
    "BE = \"\\033[0m\"\n",
    "def todoList(task,taskDict):\n",
    "   today = date.today()\n",
    "   d1 = today.strftime(\"%d/%m/%Y %H:%I:%S\")\n",
    "   taskId = len(taskDict)+1\n",
    "   taskDict.update({taskId:{'date':d1,'task':task}})\n",
    "   return taskDict\n",
    "\n",
    "def showTasks(taskDict):\n",
    "    print('\\n'+BS+'List of Tasks'+BE)\n",
    "    print('-------------')\n",
    "    if(len(taskDict) == 0):\n",
    "        print('-- Task list is empty --')\n",
    "    else:\n",
    "        for i in taskDict.keys():\n",
    "            print('Task No. '+str(i)+' > '+taskDict[i]['date']+' --- '+taskDict[i]['task'])\n",
    "            \n",
    "def strikeTxt(txt):\n",
    "    return \"\\033[3;37;40m \"+txt+\"\\033[0;0m\"\n",
    "#--------------------------------------------------------------\n",
    "tasks = dict()\n",
    "opt = ''\n",
    "print(BS+'-: TODO APP :-'+BE)\n",
    "while opt != 'x':\n",
    "    clear_output()\n",
    "    showTasks(tasks)\n",
    "    opt = input(\"\\n\\n<A> Add Task  <C> Complete Task  <D> Delete Task  <M> Empty Task List  <X> Exit\\nSelect Option: \").lower()\n",
    "    if(opt == 'a'):\n",
    "        task = input('\\nEnter New Task :')\n",
    "        if(task != ''):\n",
    "             todoList(task,tasks)\n",
    "             print(\"-- New Task Added\")  \n",
    "        else:\n",
    "            print('A Blank task is not task.')\n",
    "    elif(opt == 'd'):\n",
    "        num = int(input('Enter task number to delete : '))\n",
    "        if(num > 0):\n",
    "            del tasks[num]\n",
    "            print(\"-- Task No.\"+str(num)+\" deleted\")\n",
    "    elif(opt == 'c'):\n",
    "        num = int(input('Enter task number to mark complete : '))\n",
    "        if(num > 0):\n",
    "            tasks[num]['date'] = strikeTxt(tasks[num]['date'])\n",
    "            tasks[num]['task'] = strikeTxt(tasks[num]['task']+' - Completed.')\n",
    "            print(\"-- Task No.\"+str(num)+\" is cokmpleted\")\n",
    "    elif(opt == 'm'):\n",
    "        confirm = input('Are you sure to empty the current list (Y/N) ?')\n",
    "        if confirm == 'Y':\n",
    "            tasks = dict()\n",
    "            \n",
    "            "
   ]
  }
 ],
 "metadata": {
  "kernelspec": {
   "display_name": "Python 3",
   "language": "python",
   "name": "python3"
  }
 },
 "nbformat": 4,
 "nbformat_minor": 2
}
