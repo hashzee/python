{
 "cells": [
  {
   "cell_type": "code",
   "execution_count": 8,
   "metadata": {},
   "outputs": [
    {
     "name": "stdout",
     "output_type": "stream",
     "text": [
      "Enter English Marks:55\n",
      "Enter Math Marks:45\n",
      "Enter Science Marks:56\n",
      "Enter Computer Science Marks:65\n",
      "Enter Physics Marks:64\n",
      "56.99999999999999\n",
      "Grade D\n"
     ]
    }
   ],
   "source": [
    "#QUESTION NO. 1\n",
    "engNo = int(input(\"Enter English Marks:\"))\n",
    "mathNo = int(input(\"Enter Math Marks:\"))\n",
    "sciNo = int(input(\"Enter Science Marks:\"))\n",
    "compNo = int(input(\"Enter Computer Science Marks:\"))\n",
    "phyNo = int(input(\"Enter Physics Marks:\"))\n",
    "total = float((engNo + mathNo + sciNo + compNo + phyNo)/500*100)\n",
    "print(total)\n",
    "if total > 90:\n",
    "    print(\"Grade A+\")\n",
    "elif total > 80 and total < 91:\n",
    "    print(\"Grade A\")\n",
    "elif total > 70 and total < 81:\n",
    "    print(\"Grade B\")\n",
    "elif total > 60 and total < 71:\n",
    "    print(\"Grade C\")\n",
    "elif total > 50 and total < 61:\n",
    "    print(\"Grade D\")\n",
    "else:    \n",
    "    print(\"Grade FAIL\")    \n",
    "    "
   ]
  },
  {
   "cell_type": "code",
   "execution_count": 12,
   "metadata": {},
   "outputs": [
    {
     "name": "stdout",
     "output_type": "stream",
     "text": [
      "Enter any number:66\n",
      "66 is an EVEN Number\n"
     ]
    }
   ],
   "source": [
    "#QUESTION NO. 2\n",
    "num = int(input('Enter any number:'))\n",
    "if num % 2 == 0:\n",
    "    print(str(num) + \" is an EVEN Number\")\n",
    "else:\n",
    "    print(str(num) + \" is an ODD Number\")    "
   ]
  },
  {
   "cell_type": "code",
   "execution_count": 13,
   "metadata": {},
   "outputs": [
    {
     "name": "stdout",
     "output_type": "stream",
     "text": [
      "8\n"
     ]
    }
   ],
   "source": [
    "#QUESTION NO. 3\n",
    "myList = ['Football','Cricket','Badminton','Hockey','Baseball','Handball','Basketball','Tennis']\n",
    "print(len(myList))"
   ]
  },
  {
   "cell_type": "code",
   "execution_count": 33,
   "metadata": {},
   "outputs": [
    {
     "name": "stdout",
     "output_type": "stream",
     "text": [
      "Sum of all the numeric items in the list is :203\n"
     ]
    }
   ],
   "source": [
    "#QUESTION NO. 4\n",
    "myList = ['USA',12,33,45,19,'UK','Paksitan',56,38,'UAE']\n",
    "theSum = 0\n",
    "for i in myList:\n",
    "    if type(i) == int:\n",
    "        theSum += i    \n",
    "print(\"Sum of all the numeric items in the list is : \"+str(theSum))"
   ]
  },
  {
   "cell_type": "code",
   "execution_count": 34,
   "metadata": {},
   "outputs": [
    {
     "name": "stdout",
     "output_type": "stream",
     "text": [
      "The largest number in the list is : 89\n"
     ]
    }
   ],
   "source": [
    "#QUESTION NO. 5\n",
    "myList = [3,43,12,23,27,32,56,89,9,16,7,22,43,24]\n",
    "print(\"The largest number in the list is : \"+str(max(myList)))"
   ]
  },
  {
   "cell_type": "code",
   "execution_count": 38,
   "metadata": {},
   "outputs": [
    {
     "name": "stdout",
     "output_type": "stream",
     "text": [
      "1\n",
      "1\n",
      "2\n",
      "3\n"
     ]
    }
   ],
   "source": [
    "#QUESTION NO. 6\n",
    "myList = [1, 1, 2, 3, 5, 8, 13, 21, 34, 55, 89]\n",
    "for i in myList:\n",
    "    if i < 5:\n",
    "        print(i)"
   ]
  }
 ],
 "metadata": {
  "kernelspec": {
   "display_name": "Python 3",
   "language": "python",
   "name": "python3"
  },
  "language_info": {
   "codemirror_mode": {
    "name": "ipython",
    "version": 3
   },
   "file_extension": ".py",
   "mimetype": "text/x-python",
   "name": "python",
   "nbconvert_exporter": "python",
   "pygments_lexer": "ipython3",
   "version": "3.7.4"
  }
 },
 "nbformat": 4,
 "nbformat_minor": 2
}
