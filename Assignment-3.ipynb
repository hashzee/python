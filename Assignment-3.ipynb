{
 "cells": [
  {
   "cell_type": "code",
   "execution_count": 2,
   "metadata": {},
   "outputs": [
    {
     "name": "stdout",
     "output_type": "stream",
     "text": [
      "Choose Option :\n",
      "---------------\n",
      "<1> Addition\n",
      "<2> Subtraction\n",
      "<3> Multiplication\n",
      "<4> Division\n",
      "<5> Power\n",
      "---------------\n",
      "Enter Operation to perform : 5\n",
      "Enter 1st Number : 5\n",
      "Enter 2nd Number : 6\n",
      "5.0 raised to the power of 6.0 is :  15625.0\n"
     ]
    }
   ],
   "source": [
    "#Question No. 1\n",
    "print('Choose Option :')\n",
    "print('---------------')\n",
    "print('<1> Addition')\n",
    "print('<2> Subtraction')\n",
    "print('<3> Multiplication')\n",
    "print('<4> Division')\n",
    "print('<5> Power')\n",
    "print('---------------')\n",
    "opt = int(input(\"Enter Operation to perform : \"))\n",
    "\n",
    "if opt > 5:\n",
    "    print('You enterd incorrect option.')\n",
    "else:    \n",
    "    no1 = float(input(\"Enter 1st Number : \"))\n",
    "    no2 = float(input(\"Enter 2nd Number : \"))\n",
    "\n",
    "    if opt == 1:\n",
    "        print(\"Addition of \"+str(no1)+\" and \"+str(no2)+\" is : \",no1+no2)\n",
    "    elif opt == 2:\n",
    "        print(\"Subtraction of \"+str(no2)+\" from \"+str(no1)+\" is : \",no1-no2)\n",
    "    elif opt == 3:\n",
    "        print(\"Multiplication of \"+str(no1)+\" and \"+str(no2)+\" is : \",no1*no2)    \n",
    "    elif opt == 4:\n",
    "        print(\"Division of \"+str(no1)+\" by \"+str(no2)+\" is : \",no1/no2)\n",
    "    elif opt == 5:\n",
    "        print(str(no1)+\" raised to the power of \"+str(no2)+\" is : \",no1**no2)"
   ]
  },
  {
   "cell_type": "code",
   "execution_count": 6,
   "metadata": {},
   "outputs": [
    {
     "name": "stdout",
     "output_type": "stream",
     "text": [
      "55 is Numeric\n",
      "42 is Numeric\n"
     ]
    }
   ],
   "source": [
    "#Question No. 2\n",
    "myList = [\"America\", \"Australia\",55,\"France\",42, \"Italy\"]\n",
    "for element in myList:\n",
    "  if str(element).isnumeric():\n",
    "    print(str(element)+\" is Numeric\")"
   ]
  },
  {
   "cell_type": "code",
   "execution_count": 7,
   "metadata": {},
   "outputs": [
    {
     "name": "stdout",
     "output_type": "stream",
     "text": [
      "{'Name': 'Zeeshan Hashmi'}\n",
      "{'Name': 'Zeeshan Hashmi', 'Course': 'Python'}\n"
     ]
    }
   ],
   "source": [
    "#Question No. 3\n",
    "user = {'Name':'Zeeshan Hashmi'}\n",
    "print(user)\n",
    "user['Course'] = 'Python'\n",
    "print(user)"
   ]
  },
  {
   "cell_type": "code",
   "execution_count": 8,
   "metadata": {},
   "outputs": [
    {
     "name": "stdout",
     "output_type": "stream",
     "text": [
      "You got 453 out of 500\n"
     ]
    }
   ],
   "source": [
    "#Question No. 4\n",
    "marks = {'Math':90,'English':92,'Science':88,'Geography':85,'Computer':98}\n",
    "total = sum(marks.values())\n",
    "print(\"You got \"+str(total)+\" out of 500\")"
   ]
  },
  {
   "cell_type": "code",
   "execution_count": 11,
   "metadata": {},
   "outputs": [
    {
     "name": "stdout",
     "output_type": "stream",
     "text": [
      "Honda is duplicate\n",
      "VW is duplicate\n"
     ]
    }
   ],
   "source": [
    "#Question No. 5\n",
    "myList = [\"Toyota\",\"Honda\",\"Ford\",\"Kia\",\"GMC\",\"BMW\",\"Audi\",\"Honda\",\"VW\",\"VW\"]\n",
    "myList2 = set();\n",
    "for make in myList:\n",
    "    if make in myList2:\n",
    "        print(make+\" is duplicate\")\n",
    "    else:\n",
    "        myList2.add(make)"
   ]
  },
  {
   "cell_type": "code",
   "execution_count": 13,
   "metadata": {},
   "outputs": [
    {
     "name": "stdout",
     "output_type": "stream",
     "text": [
      "Enter key to find :IT\n",
      "IT doesn't exist\n"
     ]
    }
   ],
   "source": [
    "#Question No. 6\n",
    "marks = {'Math':90,'English':92,'Science':88,'Geography':85,'Computer':98}\n",
    "gKey = input(\"Enter key to find :\")\n",
    "if gKey in marks:\n",
    "    print(gKey+\" exists\")\n",
    "else:\n",
    "    print(gKey+\" doesn't exist\")\n"
   ]
  }
 ],
 "metadata": {
  "kernelspec": {
   "display_name": "Python 3",
   "language": "python",
   "name": "python3"
  },
  "language_info": {
   "codemirror_mode": {
    "name": "ipython",
    "version": 3
   },
   "file_extension": ".py",
   "mimetype": "text/x-python",
   "name": "python",
   "nbconvert_exporter": "python",
   "pygments_lexer": "ipython3",
   "version": "3.7.4"
  }
 },
 "nbformat": 4,
 "nbformat_minor": 2
}
