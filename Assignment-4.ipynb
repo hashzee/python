{
 "cells": [
  {
   "cell_type": "code",
   "execution_count": 19,
   "metadata": {},
   "outputs": [
    {
     "name": "stdout",
     "output_type": "stream",
     "text": [
      "\u001b[1mOriginal Info\u001b[0m\n",
      " ---  {'first_name': 'Eion', 'last_name': 'Musk', 'age': 48, 'city': 'LA'}\n",
      "\n",
      "\u001b[1mQualification Added\u001b[0m\n",
      " ---  {'first_name': 'Eion', 'last_name': 'Musk', 'age': 48, 'city': 'LA', 'qualification': \"Bachelor's in Physics\"}\n",
      "\n",
      "\u001b[1mQualification Updated\u001b[0m\n",
      " ---  {'first_name': 'Eion', 'last_name': 'Musk', 'age': 48, 'city': 'LA', 'qualification': 'PhD Energy Physics'}\n",
      "\n",
      "\u001b[1mQualification Deleted\u001b[0m\n",
      " ---  {'first_name': 'Eion', 'last_name': 'Musk', 'age': 48, 'city': 'LA'}\n"
     ]
    }
   ],
   "source": [
    "#Question No. 1\n",
    "'''\n",
    "Use a dictionary to store information about a person you know. Store their first name, last name, age,\n",
    "and the city in which they live. You should have keys such as first_name, last_name, age, and city. Print\n",
    "each piece of information stored in your dictionary. Add a new key value pair about qualification then\n",
    "update the qualification value to high academic level then delete it.\n",
    "'''\n",
    "BS = \"\\033[1m\"\n",
    "BE = \"\\033[0m\"\n",
    "person = {\"first_name\":\"Eion\",\"last_name\":\"Musk\",\"age\":48,\"city\":\"LA\"}\n",
    "print(BS+\"Original Info\"+BE)\n",
    "print(\" --- \",person)\n",
    "person[\"qualification\"] = \"Bachelor's in Physics\"\n",
    "print(\"\\n\"+BS+\"Qualification Added\"+BE)\n",
    "print(\" --- \",person)\n",
    "person[\"qualification\"] = \"PhD Energy Physics\"\n",
    "print(\"\\n\"+BS+\"Qualification Updated\"+BE)\n",
    "print(\" --- \",person)\n",
    "del person[\"qualification\"]\n",
    "print(\"\\n\"+BS+\"Qualification Deleted\"+BE)\n",
    "print(\" --- \",person)\n"
   ]
  },
  {
   "cell_type": "code",
   "execution_count": 17,
   "metadata": {},
   "outputs": [
    {
     "name": "stdout",
     "output_type": "stream",
     "text": [
      "\u001b[1mTokyo\u001b[0m\n",
      "------\n",
      "\tCountry : Japan\n",
      "\tPopulation : 9.273 million\n",
      "\tFact : Tokyo is the largest metropolitan area in the world\n",
      "\u001b[1mMadrid\u001b[0m\n",
      "------\n",
      "\tCountry : Spain\n",
      "\tPopulation : 6.55 million\n",
      "\tFact : It is the highest capital city in Europe.\n",
      "\u001b[1mBerlin\u001b[0m\n",
      "------\n",
      "\tCountry : Germany\n",
      "\tPopulation : 3.748 million\n",
      "\tFact : Berlin is nine times bigger than Paris.\n"
     ]
    }
   ],
   "source": [
    "#Question No. 2\n",
    "'''\n",
    "Make a dictionary called cities. Use the names of three cities as keys in your dictionary. Create a\n",
    "dictionary of information about each city and include the country that the city is in, its approximate\n",
    "population, and one fact about that city. The keys for each city’s dictionary should be something like\n",
    "country, population, and fact. Print the name of each city and all of the information you have stored\n",
    "about it.\n",
    "'''\n",
    "BS = \"\\033[1m\"\n",
    "BE = \"\\033[0m\"\n",
    "cities = {\"Tokyo\",\"Berlin\",\"Madrid\"}\n",
    "cityInfo = {\"Tokyo\":{\"Country\":\"Japan\",\"Population\":\"9.273 million\",\"Fact\":\"Tokyo is the largest metropolitan area in the world\"},\n",
    "        \"Berlin\":{\"Country\":\"Germany\",\"Population\":\"3.748 million\",\"Fact\":\"Berlin is nine times bigger than Paris.\"},\n",
    "        \"Madrid\":{\"Country\":\"Spain\",\"Population\":\"6.55 million\",\"Fact\":\"It is the highest capital city in Europe.\"}}          \n",
    "\n",
    "for city in cities:\n",
    "    print(BS+city+BE)\n",
    "    print(\"------\")\n",
    "    for info in cityInfo[city]:\n",
    "         print(\"\\t\"+info+\" : \"+cityInfo[city][info])\n",
    "        "
   ]
  },
  {
   "cell_type": "code",
   "execution_count": 21,
   "metadata": {},
   "outputs": [
    {
     "name": "stdout",
     "output_type": "stream",
     "text": [
      "Please enter people in family: 3\n",
      "Enter age of Person 1 : 12\n",
      "Enter age of Person 2 : 18\n",
      "Enter age of Person 3 : 2\n",
      "\n",
      "--------------\n",
      "\u001b[1mTicket Receipt\u001b[0m\n",
      "--------------\n",
      "\n",
      "\tPerson 1 age 12 Ticket Cost : $10\n",
      "\tPerson 2 age 18 Ticket Cost : $15\n",
      "\tPerson 3 age 2 Ticket Cost : FREE\n",
      "-------------------------------------------\n",
      "\u001b[1m\tTotal Ticket Cost ----------- $25\u001b[0m\n"
     ]
    }
   ],
   "source": [
    "#Question No. 3\n",
    "'''\n",
    "A movie theater charges different ticket prices depending on a person’s age. If a person is under the age\n",
    "of 3, the ticket is free; if they are between 3 and 12, the ticket is $10; and if they are over age 12, the\n",
    "ticket is $15. Write a loop in which you ask users their age, and then tell them the cost of their movie\n",
    "ticket.\n",
    "'''\n",
    "BS = \"\\033[1m\"\n",
    "BE = \"\\033[0m\"\n",
    "family = int(input(\"Please enter people in family: \"))\n",
    "total = 0\n",
    "receipt = ''\n",
    "for user in range(1,family+1):\n",
    "    age = int(input(\"Enter age of Person \"+str(user)+\" : \"))\n",
    "    if(age < 3):\n",
    "        total += 0\n",
    "        receipt += \"\\n\\tPerson \"+str(user)+\" age \"+str(age)+\" Ticket Cost : FREE\"\n",
    "    elif(age >=3 and age <=12):\n",
    "        total += 10\n",
    "        receipt += \"\\n\\tPerson \"+str(user)+\" age \"+str(age)+\" Ticket Cost : $10\"\n",
    "    elif(age > 12):\n",
    "        total += 15\n",
    "        receipt += \"\\n\\tPerson \"+str(user)+\" age \"+str(age)+\" Ticket Cost : $15\"\n",
    "\n",
    "print(\"\\n--------------\")\n",
    "print(BS+\"Ticket Receipt\"+BE)\n",
    "print(\"--------------\")\n",
    "print(receipt)\n",
    "print(\"-------------------------------------------\")\n",
    "print(BS+\"\\tTotal Ticket Cost ----------- $\"+str(total)+BE)"
   ]
  },
  {
   "cell_type": "code",
   "execution_count": 20,
   "metadata": {},
   "outputs": [
    {
     "name": "stdout",
     "output_type": "stream",
     "text": [
      "One of my favorite books is Quran\n"
     ]
    }
   ],
   "source": [
    "#Question No. 4\n",
    "'''\n",
    "Write a function called favorite_book() that accepts one parameter, title. The function should print a\n",
    "message, such as One of my favorite books is Alice in Wonderland. Call the function, making sure to\n",
    "include a book title as an argument in the function call.\n",
    "'''\n",
    "def favorite_book(title):\n",
    "    print(\"One of my favorite books is \"+title)\n",
    "favorite_book(\"Quran\")\n",
    "    "
   ]
  },
  {
   "cell_type": "code",
   "execution_count": 22,
   "metadata": {},
   "outputs": [
    {
     "name": "stdout",
     "output_type": "stream",
     "text": [
      "----------------------------\n",
      "\u001b[1m--  NUMBER GUESSING GAME  --\u001b[0m\n",
      "----------------------------\n",
      "Enter your Guess (Attempt 1 of 3) :12\n",
      "\tNumber is higher then your guess.\n",
      "Enter your Guess (Attempt 2 of 3) :18\n",
      "\tNumber is higher then your guess.\n",
      "Enter your Guess (Attempt 3 of 3) :23\n",
      "\u001b[1m\tWow - you are really a champion.\u001b[0m\n"
     ]
    }
   ],
   "source": [
    "#Question No. 5\n",
    "'''\n",
    "Guess the number game\n",
    "Write a program which randomly generate a number between 1 to 30 and ask the user in input field to\n",
    "guess the correct number. Give three chances to user guess the number and also give hint to user if\n",
    "hidden number is greater or smaller than the number he given to input field.\n",
    "'''\n",
    "\n",
    "from random import randint\n",
    "numberToGuess = randint(1, 30)\n",
    "BS = \"\\033[1m\"\n",
    "BE = \"\\033[0m\"\n",
    "print(\"----------------------------\")\n",
    "print(BS+\"--  NUMBER GUESSING GAME  --\"+BE)\n",
    "print(\"----------------------------\")\n",
    "for attempt in range(1,4):\n",
    "    guess = int(input(\"Enter your Guess (Attempt \"+str(attempt)+\" of 3) :\"))\n",
    "    if(guess ==  numberToGuess):\n",
    "        print(BS+\"\\tWow - you are really a champion.\"+BE)\n",
    "        break\n",
    "    elif(guess < numberToGuess):\n",
    "        print(\"\\tNumber is higher then your guess.\")    \n",
    "    elif(guess > numberToGuess):\n",
    "        print(\"\\tNumber is lower then your guess.\")        \n",
    "if(guess != numberToGuess):\n",
    "    print(BS+\"Oh no ! you failed. The number was : \"+str(numberToGuess)+BE)  "
   ]
  }
 ],
 "metadata": {
  "kernelspec": {
   "display_name": "Python 3",
   "language": "python",
   "name": "python3"
  },
  "language_info": {
   "codemirror_mode": {
    "name": "ipython",
    "version": 3
   },
   "file_extension": ".py",
   "mimetype": "text/x-python",
   "name": "python",
   "nbconvert_exporter": "python",
   "pygments_lexer": "ipython3",
   "version": "3.7.4"
  }
 },
 "nbformat": 4,
 "nbformat_minor": 2
}
