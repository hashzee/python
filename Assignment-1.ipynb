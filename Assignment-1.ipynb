{
 "cells": [
  {
   "cell_type": "code",
   "execution_count": 2,
   "metadata": {},
   "outputs": [
    {
     "name": "stdout",
     "output_type": "stream",
     "text": [
      "Twinkle, twinkle, little star,\n",
      "\tHow I wonder what you are!\n",
      "\t\tUp above the world so high,\n",
      "\t\tLike a diamond in the sky.\n",
      "Twinkle, twinkle, little star,\n",
      "\tHow I wonder what you are\n",
      "3.7.4 (default, Aug  9 2019, 18:34:13) [MSC v.1915 64 bit (AMD64)]\n",
      "Current Date & Time is: 2019-11-03 16:34:25.262399\n",
      "Enter Radius:5\n",
      "Area of the circle is : 78.53975\n",
      "Enter first name:Zee\n",
      "Enter last name:Hash\n",
      "Hash Zee\n",
      "Enter 1st Number :2\n",
      "Enter 2nd Number :3\n",
      "5\n"
     ]
    }
   ],
   "source": [
    "#Solution Question No. 1\n",
    "print(\"Twinkle, twinkle, little star,\")\n",
    "print(\"\\tHow I wonder what you are!\")\n",
    "print(\"\\t\\tUp above the world so high,\\n\\t\\tLike a diamond in the sky.\")\n",
    "print(\"Twinkle, twinkle, little star,\")\n",
    "print(\"\\tHow I wonder what you are\")\n",
    "\n",
    "#Solution Question No. 2\n",
    "import sys\n",
    "print(sys.version)\n",
    "\n",
    "#Solution Question No. 3\n",
    "import datetime\n",
    "current_ts = datetime.datetime.now()\n",
    "print(\"Current Date & Time is:\",current_ts)\n",
    "\n",
    "#Solution Question No. 4\n",
    "pi = 3.14159\n",
    "radius = float(input('Enter Radius:'))\n",
    "area = pi*(pow(radius,2))\n",
    "print(\"Area of the circle is :\",area)\n",
    "\n",
    "#Solution Question No. 5\n",
    "first_name = input('Enter first name:')\n",
    "last_name = input('Enter last name:')\n",
    "print(last_name+' '+first_name)\n",
    "\n",
    "#Solution Question No. 6\n",
    "first_no = int(input('Enter 1st Number :'))\n",
    "second_no = int(input('Enter 2nd Number :'))\n",
    "print(first_no+second_no)\n"
   ]
  },
  {
   "cell_type": "code",
   "execution_count": null,
   "metadata": {},
   "outputs": [],
   "source": []
  }
 ],
 "metadata": {
  "kernelspec": {
   "display_name": "Python 3",
   "language": "python",
   "name": "python3"
  },
  "language_info": {
   "codemirror_mode": {
    "name": "ipython",
    "version": 3
   },
   "file_extension": ".py",
   "mimetype": "text/x-python",
   "name": "python",
   "nbconvert_exporter": "python",
   "pygments_lexer": "ipython3",
   "version": "3.7.4"
  }
 },
 "nbformat": 4,
 "nbformat_minor": 2
}
